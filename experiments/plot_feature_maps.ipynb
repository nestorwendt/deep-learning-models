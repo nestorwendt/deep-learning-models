{
 "cells": [
  {
   "cell_type": "code",
   "execution_count": null,
   "id": "5b74d2cc-808b-4b90-b515-82359211bab8",
   "metadata": {},
   "outputs": [],
   "source": [
    "# Fix working directory\n",
    "%cd .."
   ]
  },
  {
   "cell_type": "code",
   "execution_count": null,
   "id": "0261259c-d8c5-4a1c-8367-ad4fc9aad818",
   "metadata": {},
   "outputs": [],
   "source": [
    "import torch\n",
    "from datasets import imagenet\n",
    "from utils.images import get_attention_maps, plot_attention_maps\n",
    "from utils.system import calculate_num_workers"
   ]
  },
  {
   "cell_type": "code",
   "execution_count": null,
   "id": "df2ebd65-fa9a-4c69-a602-2b1eb0b06fb4",
   "metadata": {},
   "outputs": [],
   "source": [
    "# Load the model\n",
    "model_path = (\n",
    "    \"checkpoints/20240602-185420_vit-256emb-04layer-08head-08patch-16register_epoch-1_valacc-9.68.pth\"\n",
    ")\n",
    "device = torch.device(\"cuda\" if torch.cuda.is_available() else \"cpu\")\n",
    "model = torch.load(model_path, map_location=device)"
   ]
  },
  {
   "cell_type": "code",
   "execution_count": null,
   "id": "a4115168-6a95-4c47-805d-6524cc042fa7",
   "metadata": {},
   "outputs": [],
   "source": [
    "batch_size = 8\n",
    "num_workers = calculate_num_workers()\n",
    "\n",
    "# Set the model to evaluation mode\n",
    "model.eval()\n",
    "\n",
    "# Define the dataloader\n",
    "train_dataloader, val_dataloader = imagenet.prepare_dataloaders(\n",
    "        img_size=model.img_size,\n",
    "        batch_size=batch_size,\n",
    "        num_workers=num_workers,\n",
    "        data_root=\"data\",\n",
    "    )"
   ]
  },
  {
   "cell_type": "code",
   "execution_count": null,
   "id": "49ed5629-2baf-4d10-b3fd-2264b4a6acfe",
   "metadata": {},
   "outputs": [],
   "source": [
    "# Get a batch of images and labels\n",
    "images, labels = next(iter(train_dataloader))\n",
    "images = images.to(device)\n",
    "labels = labels.to(device)\n",
    "\n",
    "# Forward pass through the model\n",
    "with torch.no_grad():\n",
    "    outputs = model(images)\n",
    "\n",
    "# Get the attention maps\n",
    "attention_maps = get_attention_maps(model)\n",
    "\n",
    "# Plot the attention maps\n",
    "images = images.cpu()\n",
    "attention_maps = attention_maps.cpu()\n",
    "plot_attention_maps(\n",
    "    images,\n",
    "    attention_maps,\n",
    "    num_registers=model.num_registers,\n",
    "    save_path=None,\n",
    "    imshow_interpolation=None,\n",
    ")"
   ]
  },
  {
   "cell_type": "code",
   "execution_count": null,
   "id": "5f26a581",
   "metadata": {},
   "outputs": [],
   "source": []
  }
 ],
 "metadata": {
  "kernelspec": {
   "display_name": "Python 3 (ipykernel)",
   "language": "python",
   "name": "python3"
  },
  "language_info": {
   "codemirror_mode": {
    "name": "ipython",
    "version": 3
   },
   "file_extension": ".py",
   "mimetype": "text/x-python",
   "name": "python",
   "nbconvert_exporter": "python",
   "pygments_lexer": "ipython3",
   "version": "3.12.3"
  }
 },
 "nbformat": 4,
 "nbformat_minor": 5
}
