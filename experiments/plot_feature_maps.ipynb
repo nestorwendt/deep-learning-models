{
 "cells": [
  {
   "cell_type": "code",
   "execution_count": null,
   "id": "5b74d2cc-808b-4b90-b515-82359211bab8",
   "metadata": {},
   "outputs": [],
   "source": [
    "# Fix working directory\n",
    "%cd .."
   ]
  },
  {
   "cell_type": "code",
   "execution_count": null,
   "id": "0261259c-d8c5-4a1c-8367-ad4fc9aad818",
   "metadata": {},
   "outputs": [],
   "source": [
    "import torch\n",
    "import torchvision.transforms as transforms\n",
    "from torchvision import datasets\n",
    "from torch.utils.data import DataLoader\n",
    "from utils.images import get_attention_maps, plot_attention_maps"
   ]
  },
  {
   "cell_type": "code",
   "execution_count": null,
   "id": "df2ebd65-fa9a-4c69-a602-2b1eb0b06fb4",
   "metadata": {},
   "outputs": [],
   "source": [
    "# Load the entire model\n",
    "model_path = \"checkpoints/20240531_205302.pth\"\n",
    "device = torch.device(\"cuda\" if torch.cuda.is_available() else \"cpu\")\n",
    "model = torch.load(model_path, map_location=device)"
   ]
  },
  {
   "cell_type": "code",
   "execution_count": null,
   "id": "a4115168-6a95-4c47-805d-6524cc042fa7",
   "metadata": {},
   "outputs": [],
   "source": [
    "# Define constants\n",
    "batch_size = 2\n",
    "img_size = 224\n",
    "num_channels = 3\n",
    "\n",
    "# Set the model to evaluation mode\n",
    "model.eval()\n",
    "\n",
    "# Define transformation pipeline for the dataset\n",
    "transform = transforms.Compose([\n",
    "    transforms.Resize((img_size, img_size)),\n",
    "    transforms.ToTensor(),\n",
    "    transforms.Normalize(mean=[0.485, 0.456, 0.406], std=[0.229, 0.224, 0.225]),\n",
    "])\n",
    "\n",
    "# Load the Imagenette dataset\n",
    "imagenette_dataset = datasets.Imagenette(root=\"data\", split=\"train\", download=False, transform=transform)\n",
    "\n",
    "# Create a dataloader\n",
    "imagenette_dataloader = DataLoader(imagenette_dataset, batch_size=batch_size, shuffle=True)"
   ]
  },
  {
   "cell_type": "code",
   "execution_count": null,
   "id": "49ed5629-2baf-4d10-b3fd-2264b4a6acfe",
   "metadata": {},
   "outputs": [],
   "source": [
    "# Get a batch of images and labels\n",
    "images, labels = next(iter(imagenette_dataloader))\n",
    "images = images.to(device)\n",
    "labels = labels.to(device)\n",
    "\n",
    "# Forward pass through the model\n",
    "with torch.no_grad():\n",
    "    outputs = model(images)\n",
    "\n",
    "# Get the attention maps\n",
    "attention_maps = get_attention_maps(model)\n",
    "\n",
    "# Plot the attention maps\n",
    "images = images.cpu()\n",
    "attention_maps = attention_maps.cpu()\n",
    "plot_attention_maps(images, attention_maps, save_path = None, imshow_interpolation = None)"
   ]
  }
 ],
 "metadata": {
  "kernelspec": {
   "display_name": "Python 3 (ipykernel)",
   "language": "python",
   "name": "python3"
  },
  "language_info": {
   "codemirror_mode": {
    "name": "ipython",
    "version": 3
   },
   "file_extension": ".py",
   "mimetype": "text/x-python",
   "name": "python",
   "nbconvert_exporter": "python",
   "pygments_lexer": "ipython3",
   "version": "3.12.3"
  }
 },
 "nbformat": 4,
 "nbformat_minor": 5
}
